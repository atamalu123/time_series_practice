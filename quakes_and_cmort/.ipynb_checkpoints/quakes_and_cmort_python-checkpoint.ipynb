{
 "cells": [
  {
   "cell_type": "markdown",
   "id": "250f749a",
   "metadata": {},
   "source": [
    "# Python "
   ]
  },
  {
   "cell_type": "markdown",
   "id": "c1dfd5e3",
   "metadata": {},
   "source": [
    "# Navigation\n",
    "\n",
    "1.  [Earthquakes](#quakes)\n",
    "\n",
    "    * [Data Exploration](#data-exploration)\n",
    "    * [ACF](#acf)\n",
    "    * [Relationship between x(t) and x(t-1)](#relationship-between-xt-and-xt-1)\n",
    "    * [ACF of Residuals](#acf-of-residuals)\n",
    "\n",
    "2.  [Cardiovascular Mortality Rate](#cmort)\n",
    "\n",
    "    * [Data Exploration](#data-exploration-1)\n",
    "    * [First Differences](#first-differences)\n",
    "    * [ACF](#acf-1)\n",
    "    * [Relationship between x(t) and x(t-1)](#relationship-between-xt-and-xt-1-1)\n",
    "    * [ACF of Residuals](#acf-of-residuals-1)"
   ]
  },
  {
   "cell_type": "markdown",
   "id": "414a044d",
   "metadata": {},
   "source": [
    "# "
   ]
  },
  {
   "cell_type": "code",
   "execution_count": null,
   "id": "d6acf26f",
   "metadata": {},
   "outputs": [],
   "source": [
    "import pandas as pd\n",
    "import numpy as np\n",
    "\n",
    "file_url = 'https://online.stat.psu.edu/stat510/sites/stat510/files/L01/quakes.dat'\n",
    "\n",
    "x = pd.read_csv(file_url, delim_whitespace=True, header=None)\n",
    "x = x.to_numpy().flatten()\n",
    "x = x[~np.isnan(x)]"
   ]
  }
 ],
 "metadata": {
  "kernelspec": {
   "display_name": "Python 3",
   "language": "python",
   "name": "python3"
  },
  "language_info": {
   "codemirror_mode": {
    "name": "ipython",
    "version": 3
   },
   "file_extension": ".py",
   "mimetype": "text/x-python",
   "name": "python",
   "nbconvert_exporter": "python",
   "pygments_lexer": "ipython3",
   "version": "3.13.3"
  }
 },
 "nbformat": 4,
 "nbformat_minor": 5
}
